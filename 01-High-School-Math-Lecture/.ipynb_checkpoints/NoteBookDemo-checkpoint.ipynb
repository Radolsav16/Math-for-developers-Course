{
 "cells": [
  {
   "cell_type": "code",
   "execution_count": 1,
   "id": "17d7ab1e-e71e-4efe-a1c5-57eb879758e6",
   "metadata": {
    "scrolled": true
   },
   "outputs": [
    {
     "data": {
      "text/plain": [
       "21"
      ]
     },
     "execution_count": 1,
     "metadata": {},
     "output_type": "execute_result"
    }
   ],
   "source": [
    "a = 10\n",
    "b = 11\n",
    "\n",
    "a + b\n"
   ]
  },
  {
   "cell_type": "markdown",
   "id": "234843c7-cd26-482c-baa4-20c171a8c4a7",
   "metadata": {},
   "source": [
    "# Heading\n"
   ]
  },
  {
   "cell_type": "markdown",
   "id": "f7a924d2-7f94-4a71-bd8e-1e775f0e1a08",
   "metadata": {},
   "source": [
    "* Bullet"
   ]
  }
 ],
 "metadata": {
  "kernelspec": {
   "display_name": "Python [conda env:base] *",
   "language": "python",
   "name": "conda-base-py"
  },
  "language_info": {
   "codemirror_mode": {
    "name": "ipython",
    "version": 3
   },
   "file_extension": ".py",
   "mimetype": "text/x-python",
   "name": "python",
   "nbconvert_exporter": "python",
   "pygments_lexer": "ipython3",
   "version": "3.12.7"
  }
 },
 "nbformat": 4,
 "nbformat_minor": 5
}
