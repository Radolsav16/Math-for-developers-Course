{
 "cells": [
  {
   "cell_type": "code",
   "execution_count": 43,
   "id": "17d7ab1e-e71e-4efe-a1c5-57eb879758e6",
   "metadata": {
    "scrolled": true
   },
   "outputs": [
    {
     "data": {
      "text/plain": [
       "50"
      ]
     },
     "execution_count": 43,
     "metadata": {},
     "output_type": "execute_result"
    }
   ],
   "source": [
    "a = 10\n",
    "b = 11\n",
    "\n",
    "a + b\n",
    "\n",
    "20 + 30\n"
   ]
  },
  {
   "cell_type": "markdown",
   "id": "234843c7-cd26-482c-baa4-20c171a8c4a7",
   "metadata": {},
   "source": [
    "# Heading\n"
   ]
  },
  {
   "cell_type": "markdown",
   "id": "f7a924d2-7f94-4a71-bd8e-1e775f0e1a08",
   "metadata": {},
   "source": [
    "* Bullet"
   ]
  },
  {
   "cell_type": "markdown",
   "id": "6b1a4240",
   "metadata": {},
   "source": [
    "**this is bold text**"
   ]
  },
  {
   "cell_type": "markdown",
   "id": "e35bb64e",
   "metadata": {},
   "source": [
    "__also bold text__"
   ]
  },
  {
   "cell_type": "markdown",
   "id": "dd2c0ba6",
   "metadata": {},
   "source": [
    "1. This is list\n",
    "2. Second elemnt of the list\n",
    "3. Thirth Element of the list \n",
    "    1. Nesting some el\n",
    "    2. Sixth element\n",
    "10. New one\n",
    "11. Mix\n",
    "    * One\n",
    "    * Two \n",
    "    * Three\n",
    "    * Four\n",
    "    "
   ]
  },
  {
   "cell_type": "markdown",
   "id": "6d2693f0",
   "metadata": {},
   "source": []
  },
  {
   "cell_type": "markdown",
   "id": "94056d02",
   "metadata": {},
   "source": [
    "This is my [github_repositary](https://github.com/Radolsav16)"
   ]
  },
  {
   "cell_type": "markdown",
   "id": "1294f921",
   "metadata": {},
   "source": [
    "![My image](https://th.bing.com/th/id/OIP.WmeSC4VSJgynC59DZVXFHQHaGd?rs=1&pid=ImgDetMain)"
   ]
  },
  {
   "cell_type": "markdown",
   "id": "241573d8",
   "metadata": {},
   "source": [
    "|   |   |   |   |   |\n",
    "|---|---|---|---|---|\n",
    "|   |   |   |   |   |\n",
    "|   |   |   |   |   |\n",
    "|   |   |   |   |   |\n",
    "\n",
    "This is table genrated by table genarator!"
   ]
  },
  {
   "cell_type": "markdown",
   "id": "d5046539",
   "metadata": {},
   "source": [
    "``` python\n",
    "def square(x) \n",
    "    return x ** 2\n",
    "```    "
   ]
  },
  {
   "cell_type": "markdown",
   "id": "f580660b",
   "metadata": {},
   "source": [
    "$$ y = ax + b $$"
   ]
  },
  {
   "cell_type": "markdown",
   "id": "6ae8f491",
   "metadata": {},
   "source": [
    "$$ \\frac{a}{3} $$"
   ]
  },
  {
   "cell_type": "markdown",
   "id": "19538c41",
   "metadata": {},
   "source": [
    "$$ ax^2 + bx + c = 0 $$"
   ]
  },
  {
   "cell_type": "markdown",
   "id": "0f46335d",
   "metadata": {},
   "source": [
    "$$ \\left(\\begin{array} {cc} 2 & 1 & 3 \\\\ 2 & 6 & 8 \\\\ 6 & 8 & 18 \\end{array} \\right)  $$"
   ]
  },
  {
   "cell_type": "markdown",
   "id": "e4071064",
   "metadata": {},
   "source": [
    "$$ x_1,_2 = \\frac{-b \\pm \\sqrt{b^2 - 4c}}{2} $$"
   ]
  }
 ],
 "metadata": {
  "kernelspec": {
   "display_name": "base",
   "language": "python",
   "name": "python3"
  },
  "language_info": {
   "codemirror_mode": {
    "name": "ipython",
    "version": 3
   },
   "file_extension": ".py",
   "mimetype": "text/x-python",
   "name": "python",
   "nbconvert_exporter": "python",
   "pygments_lexer": "ipython3",
   "version": "3.12.7"
  }
 },
 "nbformat": 4,
 "nbformat_minor": 5
}
